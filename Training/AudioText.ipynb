{
 "cells": [
  {
   "cell_type": "code",
   "execution_count": 1,
   "id": "691cd66b-c66c-445e-8f8a-4e0e519b2a8f",
   "metadata": {},
   "outputs": [
    {
     "name": "stdout",
     "output_type": "stream",
     "text": [
      "Defaulting to user installation because normal site-packages is not writeable\n",
      "Requirement already satisfied: SpeechRecognition in ./.local/lib/python3.10/site-packages (3.10.0)\n",
      "Requirement already satisfied: requests>=2.26.0 in /home/common/miniconda3/envs/pytorch_xpu/lib/python3.10/site-packages (from SpeechRecognition) (2.31.0)\n",
      "Requirement already satisfied: charset-normalizer<4,>=2 in /home/common/miniconda3/envs/pytorch_xpu/lib/python3.10/site-packages (from requests>=2.26.0->SpeechRecognition) (3.1.0)\n",
      "Requirement already satisfied: idna<4,>=2.5 in /home/common/miniconda3/envs/pytorch_xpu/lib/python3.10/site-packages (from requests>=2.26.0->SpeechRecognition) (3.4)\n",
      "Requirement already satisfied: urllib3<3,>=1.21.1 in ./.local/lib/python3.10/site-packages (from requests>=2.26.0->SpeechRecognition) (1.26.16)\n",
      "Requirement already satisfied: certifi>=2017.4.17 in /home/common/miniconda3/envs/pytorch_xpu/lib/python3.10/site-packages (from requests>=2.26.0->SpeechRecognition) (2023.5.7)\n",
      "Defaulting to user installation because normal site-packages is not writeable\n",
      "Requirement already satisfied: nltk in ./.local/lib/python3.10/site-packages (3.8.1)\n",
      "Requirement already satisfied: click in ./.local/lib/python3.10/site-packages (from nltk) (8.1.6)\n",
      "Requirement already satisfied: joblib in ./.local/lib/python3.10/site-packages (from nltk) (1.3.2)\n",
      "Requirement already satisfied: regex>=2021.8.3 in ./.local/lib/python3.10/site-packages (from nltk) (2023.8.8)\n",
      "Requirement already satisfied: tqdm in ./.local/lib/python3.10/site-packages (from nltk) (4.66.1)\n",
      "Defaulting to user installation because normal site-packages is not writeable\n",
      "Requirement already satisfied: langdetect in ./.local/lib/python3.10/site-packages (1.0.9)\n",
      "Requirement already satisfied: six in /home/common/miniconda3/envs/pytorch_xpu/lib/python3.10/site-packages (from langdetect) (1.16.0)\n"
     ]
    }
   ],
   "source": [
    "!pip install SpeechRecognition\n",
    "!pip install nltk\n",
    "!pip install langdetect"
   ]
  },
  {
   "cell_type": "code",
   "execution_count": 25,
   "id": "e1e895b8-1c5f-4c3c-a2b6-2f881e0da425",
   "metadata": {},
   "outputs": [],
   "source": [
    "import pandas as pd\n",
    "\n",
    "import nltk\n",
    "from nltk.corpus import stopwords\n",
    "from nltk.stem import PorterStemmer, WordNetLemmatizer\n",
    "from nltk.tokenize import word_tokenize, sent_tokenize\n",
    "import re"
   ]
  },
  {
   "cell_type": "code",
   "execution_count": 26,
   "id": "18af93f7-d8f7-4de9-a0c0-de81d3a4295b",
   "metadata": {},
   "outputs": [
    {
     "data": {
      "text/html": [
       "<div>\n",
       "<style scoped>\n",
       "    .dataframe tbody tr th:only-of-type {\n",
       "        vertical-align: middle;\n",
       "    }\n",
       "\n",
       "    .dataframe tbody tr th {\n",
       "        vertical-align: top;\n",
       "    }\n",
       "\n",
       "    .dataframe thead th {\n",
       "        text-align: right;\n",
       "    }\n",
       "</style>\n",
       "<table border=\"1\" class=\"dataframe\">\n",
       "  <thead>\n",
       "    <tr style=\"text-align: right;\">\n",
       "      <th></th>\n",
       "      <th>text</th>\n",
       "      <th>label</th>\n",
       "    </tr>\n",
       "  </thead>\n",
       "  <tbody>\n",
       "    <tr>\n",
       "      <th>0</th>\n",
       "      <td>dear american teens question dutch person hear...</td>\n",
       "      <td>0</td>\n",
       "    </tr>\n",
       "    <tr>\n",
       "      <th>1</th>\n",
       "      <td>nothing look forward lifei dont many reasons k...</td>\n",
       "      <td>1</td>\n",
       "    </tr>\n",
       "    <tr>\n",
       "      <th>2</th>\n",
       "      <td>music recommendations im looking expand playli...</td>\n",
       "      <td>0</td>\n",
       "    </tr>\n",
       "    <tr>\n",
       "      <th>3</th>\n",
       "      <td>im done trying feel betterthe reason im still ...</td>\n",
       "      <td>1</td>\n",
       "    </tr>\n",
       "    <tr>\n",
       "      <th>4</th>\n",
       "      <td>worried  year old girl subject domestic physic...</td>\n",
       "      <td>1</td>\n",
       "    </tr>\n",
       "  </tbody>\n",
       "</table>\n",
       "</div>"
      ],
      "text/plain": [
       "                                                text  label\n",
       "0  dear american teens question dutch person hear...      0\n",
       "1  nothing look forward lifei dont many reasons k...      1\n",
       "2  music recommendations im looking expand playli...      0\n",
       "3  im done trying feel betterthe reason im still ...      1\n",
       "4  worried  year old girl subject domestic physic...      1"
      ]
     },
     "execution_count": 26,
     "metadata": {},
     "output_type": "execute_result"
    }
   ],
   "source": [
    "df = pd.read_csv('mental_health.csv')\n",
    "df.head()"
   ]
  },
  {
   "cell_type": "code",
   "execution_count": 27,
   "id": "044983e2-5cfd-435e-8bd0-cdeed381dd2e",
   "metadata": {},
   "outputs": [
    {
     "data": {
      "text/html": [
       "<div>\n",
       "<style scoped>\n",
       "    .dataframe tbody tr th:only-of-type {\n",
       "        vertical-align: middle;\n",
       "    }\n",
       "\n",
       "    .dataframe tbody tr th {\n",
       "        vertical-align: top;\n",
       "    }\n",
       "\n",
       "    .dataframe thead th {\n",
       "        text-align: right;\n",
       "    }\n",
       "</style>\n",
       "<table border=\"1\" class=\"dataframe\">\n",
       "  <thead>\n",
       "    <tr style=\"text-align: right;\">\n",
       "      <th></th>\n",
       "      <th>text</th>\n",
       "      <th>label</th>\n",
       "    </tr>\n",
       "  </thead>\n",
       "  <tbody>\n",
       "    <tr>\n",
       "      <th>27972</th>\n",
       "      <td>posting everyday people stop caring  religion ...</td>\n",
       "      <td>0</td>\n",
       "    </tr>\n",
       "    <tr>\n",
       "      <th>27973</th>\n",
       "      <td>okay definetly need hear guys opinion ive pret...</td>\n",
       "      <td>0</td>\n",
       "    </tr>\n",
       "    <tr>\n",
       "      <th>27974</th>\n",
       "      <td>cant get dog think ill kill myselfthe last thi...</td>\n",
       "      <td>1</td>\n",
       "    </tr>\n",
       "    <tr>\n",
       "      <th>27975</th>\n",
       "      <td>whats point princess bridei really think like ...</td>\n",
       "      <td>1</td>\n",
       "    </tr>\n",
       "    <tr>\n",
       "      <th>27976</th>\n",
       "      <td>got nudes person might might know snapchat do ...</td>\n",
       "      <td>0</td>\n",
       "    </tr>\n",
       "  </tbody>\n",
       "</table>\n",
       "</div>"
      ],
      "text/plain": [
       "                                                    text  label\n",
       "27972  posting everyday people stop caring  religion ...      0\n",
       "27973  okay definetly need hear guys opinion ive pret...      0\n",
       "27974  cant get dog think ill kill myselfthe last thi...      1\n",
       "27975  whats point princess bridei really think like ...      1\n",
       "27976  got nudes person might might know snapchat do ...      0"
      ]
     },
     "execution_count": 27,
     "metadata": {},
     "output_type": "execute_result"
    }
   ],
   "source": [
    "df.tail()"
   ]
  },
  {
   "cell_type": "code",
   "execution_count": 28,
   "id": "b953f972-64a7-4ace-81a7-19fd53313723",
   "metadata": {},
   "outputs": [
    {
     "data": {
      "text/plain": [
       "(27977, 2)"
      ]
     },
     "execution_count": 28,
     "metadata": {},
     "output_type": "execute_result"
    }
   ],
   "source": [
    "df.shape"
   ]
  },
  {
   "cell_type": "code",
   "execution_count": 29,
   "id": "d086ce2c-e6af-4f62-b0a1-0c577e01e0ee",
   "metadata": {},
   "outputs": [
    {
     "data": {
      "text/plain": [
       "text     0\n",
       "label    0\n",
       "dtype: int64"
      ]
     },
     "execution_count": 29,
     "metadata": {},
     "output_type": "execute_result"
    }
   ],
   "source": [
    "#Preprocessing\n",
    "df.isna().sum()"
   ]
  },
  {
   "cell_type": "code",
   "execution_count": 30,
   "id": "b0fd15e8-0128-4e7c-8bbc-d8ac9421dfdc",
   "metadata": {},
   "outputs": [
    {
     "data": {
      "text/plain": [
       "5"
      ]
     },
     "execution_count": 30,
     "metadata": {},
     "output_type": "execute_result"
    }
   ],
   "source": [
    "df.duplicated().sum()"
   ]
  },
  {
   "cell_type": "code",
   "execution_count": 31,
   "id": "15cb330c-da13-4d14-9903-d0a5c0a13413",
   "metadata": {},
   "outputs": [],
   "source": [
    "df = df.drop_duplicates()"
   ]
  },
  {
   "cell_type": "code",
   "execution_count": 32,
   "id": "020a4ecf-8902-4551-b7f2-02d3fe6ef907",
   "metadata": {},
   "outputs": [
    {
     "data": {
      "text/plain": [
       "array([0, 1])"
      ]
     },
     "execution_count": 32,
     "metadata": {},
     "output_type": "execute_result"
    }
   ],
   "source": [
    "df['label'].unique()"
   ]
  },
  {
   "cell_type": "code",
   "execution_count": 33,
   "id": "772b880b-7b0f-4117-b508-98c9653bb0ba",
   "metadata": {},
   "outputs": [
    {
     "data": {
      "text/plain": [
       "label\n",
       "0    14134\n",
       "1    13838\n",
       "Name: count, dtype: int64"
      ]
     },
     "execution_count": 33,
     "metadata": {},
     "output_type": "execute_result"
    }
   ],
   "source": [
    "df['label'].value_counts()"
   ]
  },
  {
   "cell_type": "code",
   "execution_count": 34,
   "id": "c0dadbaf-639c-4d08-89d5-422a284a0502",
   "metadata": {},
   "outputs": [],
   "source": [
    "df['Total Words'] = df['text'].apply(lambda x: len(x.split()))"
   ]
  },
  {
   "cell_type": "code",
   "execution_count": 35,
   "id": "d6bd5b51-979a-4b12-a565-a0d1d059a517",
   "metadata": {},
   "outputs": [],
   "source": [
    "def count_total_words(text):\n",
    "    char = 0\n",
    "    for word in text.split():\n",
    "        char += len(word)\n",
    "    return char\n",
    "\n",
    "df['Total Characters'] = df[\"text\"].apply(count_total_words)"
   ]
  },
  {
   "cell_type": "code",
   "execution_count": 36,
   "id": "1c2a8033-79db-42b1-9eb6-84101aabfc3b",
   "metadata": {},
   "outputs": [
    {
     "data": {
      "text/html": [
       "<div>\n",
       "<style scoped>\n",
       "    .dataframe tbody tr th:only-of-type {\n",
       "        vertical-align: middle;\n",
       "    }\n",
       "\n",
       "    .dataframe tbody tr th {\n",
       "        vertical-align: top;\n",
       "    }\n",
       "\n",
       "    .dataframe thead th {\n",
       "        text-align: right;\n",
       "    }\n",
       "</style>\n",
       "<table border=\"1\" class=\"dataframe\">\n",
       "  <thead>\n",
       "    <tr style=\"text-align: right;\">\n",
       "      <th></th>\n",
       "      <th>text</th>\n",
       "      <th>label</th>\n",
       "      <th>Total Words</th>\n",
       "      <th>Total Characters</th>\n",
       "    </tr>\n",
       "  </thead>\n",
       "  <tbody>\n",
       "    <tr>\n",
       "      <th>0</th>\n",
       "      <td>dear american teens question dutch person hear...</td>\n",
       "      <td>0</td>\n",
       "      <td>23</td>\n",
       "      <td>112</td>\n",
       "    </tr>\n",
       "    <tr>\n",
       "      <th>1</th>\n",
       "      <td>nothing look forward lifei dont many reasons k...</td>\n",
       "      <td>1</td>\n",
       "      <td>20</td>\n",
       "      <td>98</td>\n",
       "    </tr>\n",
       "    <tr>\n",
       "      <th>2</th>\n",
       "      <td>music recommendations im looking expand playli...</td>\n",
       "      <td>0</td>\n",
       "      <td>64</td>\n",
       "      <td>387</td>\n",
       "    </tr>\n",
       "    <tr>\n",
       "      <th>3</th>\n",
       "      <td>im done trying feel betterthe reason im still ...</td>\n",
       "      <td>1</td>\n",
       "      <td>100</td>\n",
       "      <td>493</td>\n",
       "    </tr>\n",
       "    <tr>\n",
       "      <th>4</th>\n",
       "      <td>worried  year old girl subject domestic physic...</td>\n",
       "      <td>1</td>\n",
       "      <td>311</td>\n",
       "      <td>1819</td>\n",
       "    </tr>\n",
       "  </tbody>\n",
       "</table>\n",
       "</div>"
      ],
      "text/plain": [
       "                                                text  label  Total Words  \\\n",
       "0  dear american teens question dutch person hear...      0           23   \n",
       "1  nothing look forward lifei dont many reasons k...      1           20   \n",
       "2  music recommendations im looking expand playli...      0           64   \n",
       "3  im done trying feel betterthe reason im still ...      1          100   \n",
       "4  worried  year old girl subject domestic physic...      1          311   \n",
       "\n",
       "   Total Characters  \n",
       "0               112  \n",
       "1                98  \n",
       "2               387  \n",
       "3               493  \n",
       "4              1819  "
      ]
     },
     "execution_count": 36,
     "metadata": {},
     "output_type": "execute_result"
    }
   ],
   "source": [
    "\n",
    "df.head()"
   ]
  },
  {
   "cell_type": "code",
   "execution_count": 37,
   "id": "71aae6e7-fbe7-490d-8e4c-81e55e6984a6",
   "metadata": {},
   "outputs": [
    {
     "name": "stderr",
     "output_type": "stream",
     "text": [
      "[nltk_data] Downloading package punkt to /home/u116710/nltk_data...\n",
      "[nltk_data]   Package punkt is already up-to-date!\n",
      "[nltk_data] Downloading package stopwords to\n",
      "[nltk_data]     /home/u116710/nltk_data...\n",
      "[nltk_data]   Package stopwords is already up-to-date!\n",
      "[nltk_data] Downloading package wordnet to /home/u116710/nltk_data...\n",
      "[nltk_data]   Package wordnet is already up-to-date!\n"
     ]
    },
    {
     "data": {
      "text/plain": [
       "True"
      ]
     },
     "execution_count": 37,
     "metadata": {},
     "output_type": "execute_result"
    }
   ],
   "source": [
    "nltk.download('punkt')\n",
    "nltk.download('stopwords')\n",
    "nltk.download('wordnet')"
   ]
  },
  {
   "cell_type": "code",
   "execution_count": 38,
   "id": "4bf292ae-9fc6-4a61-9c1c-17a22b10aec1",
   "metadata": {},
   "outputs": [],
   "source": [
    "def preprocess_text(text):\n",
    "    # remove URLs\n",
    "    text = re.sub(r'http\\S+', '', text)\n",
    "\n",
    "    # convert text to lowercase\n",
    "    text = text.lower()\n",
    "\n",
    "    # remove numbers and punctuation\n",
    "    text = re.sub(r'\\d+', '', text)\n",
    "    text = re.sub(r'[^\\w\\s]', '', text)\n",
    "\n",
    "    # tokenize text into words\n",
    "    words = word_tokenize(text)\n",
    "\n",
    "    # remove stopwords\n",
    "    stop_words = set(stopwords.words('english'))\n",
    "    words = [word for word in words if word not in stop_words]\n",
    "\n",
    "    # stemmed words\n",
    "    stemmer = PorterStemmer()\n",
    "    words = [stemmer.stem(word) for word in words]\n",
    "\n",
    "    # lemmatize words\n",
    "    lemmatizer = WordNetLemmatizer()\n",
    "    words = [lemmatizer.lemmatize(word) for word in words]\n",
    "\n",
    "    # join words back into text\n",
    "    text = ' '.join(words)\n",
    "\n",
    "    # tokenize text into sentences\n",
    "    sentences = sent_tokenize(text)\n",
    "\n",
    "    return \" \".join(sentences)"
   ]
  },
  {
   "cell_type": "code",
   "execution_count": 39,
   "id": "a475f914-f6fe-460e-8d0b-b84e192cecdd",
   "metadata": {},
   "outputs": [],
   "source": [
    "df['text'] = df['text'].apply(preprocess_text)"
   ]
  },
  {
   "cell_type": "code",
   "execution_count": 40,
   "id": "17751308-2ca8-408d-80b1-8ca895688a63",
   "metadata": {},
   "outputs": [
    {
     "data": {
      "text/html": [
       "<div>\n",
       "<style scoped>\n",
       "    .dataframe tbody tr th:only-of-type {\n",
       "        vertical-align: middle;\n",
       "    }\n",
       "\n",
       "    .dataframe tbody tr th {\n",
       "        vertical-align: top;\n",
       "    }\n",
       "\n",
       "    .dataframe thead th {\n",
       "        text-align: right;\n",
       "    }\n",
       "</style>\n",
       "<table border=\"1\" class=\"dataframe\">\n",
       "  <thead>\n",
       "    <tr style=\"text-align: right;\">\n",
       "      <th></th>\n",
       "      <th>text</th>\n",
       "      <th>label</th>\n",
       "      <th>Total Words</th>\n",
       "      <th>Total Characters</th>\n",
       "    </tr>\n",
       "  </thead>\n",
       "  <tbody>\n",
       "    <tr>\n",
       "      <th>0</th>\n",
       "      <td>dear american teen question dutch person heard...</td>\n",
       "      <td>0</td>\n",
       "      <td>23</td>\n",
       "      <td>112</td>\n",
       "    </tr>\n",
       "    <tr>\n",
       "      <th>1</th>\n",
       "      <td>noth look forward lifei dont mani reason keep ...</td>\n",
       "      <td>1</td>\n",
       "      <td>20</td>\n",
       "      <td>98</td>\n",
       "    </tr>\n",
       "    <tr>\n",
       "      <th>2</th>\n",
       "      <td>music recommend im look expand playlist usual ...</td>\n",
       "      <td>0</td>\n",
       "      <td>64</td>\n",
       "      <td>387</td>\n",
       "    </tr>\n",
       "    <tr>\n",
       "      <th>3</th>\n",
       "      <td>im done tri feel betterth reason im still aliv...</td>\n",
       "      <td>1</td>\n",
       "      <td>100</td>\n",
       "      <td>493</td>\n",
       "    </tr>\n",
       "    <tr>\n",
       "      <th>4</th>\n",
       "      <td>worri year old girl subject domest physicalmen...</td>\n",
       "      <td>1</td>\n",
       "      <td>311</td>\n",
       "      <td>1819</td>\n",
       "    </tr>\n",
       "  </tbody>\n",
       "</table>\n",
       "</div>"
      ],
      "text/plain": [
       "                                                text  label  Total Words  \\\n",
       "0  dear american teen question dutch person heard...      0           23   \n",
       "1  noth look forward lifei dont mani reason keep ...      1           20   \n",
       "2  music recommend im look expand playlist usual ...      0           64   \n",
       "3  im done tri feel betterth reason im still aliv...      1          100   \n",
       "4  worri year old girl subject domest physicalmen...      1          311   \n",
       "\n",
       "   Total Characters  \n",
       "0               112  \n",
       "1                98  \n",
       "2               387  \n",
       "3               493  \n",
       "4              1819  "
      ]
     },
     "execution_count": 40,
     "metadata": {},
     "output_type": "execute_result"
    }
   ],
   "source": [
    "df.head()"
   ]
  },
  {
   "cell_type": "code",
   "execution_count": 41,
   "id": "f29fc3b3-a9b0-45f0-adc9-f5e6ce4c10ed",
   "metadata": {},
   "outputs": [],
   "source": [
    "df['Total Words After Transformation'] = df['text'].apply(lambda x: len(x.split()))"
   ]
  },
  {
   "cell_type": "code",
   "execution_count": 42,
   "id": "21914286-707a-4dd2-b172-a8ec12d520d8",
   "metadata": {},
   "outputs": [
    {
     "data": {
      "text/html": [
       "<div>\n",
       "<style scoped>\n",
       "    .dataframe tbody tr th:only-of-type {\n",
       "        vertical-align: middle;\n",
       "    }\n",
       "\n",
       "    .dataframe tbody tr th {\n",
       "        vertical-align: top;\n",
       "    }\n",
       "\n",
       "    .dataframe thead th {\n",
       "        text-align: right;\n",
       "    }\n",
       "</style>\n",
       "<table border=\"1\" class=\"dataframe\">\n",
       "  <thead>\n",
       "    <tr style=\"text-align: right;\">\n",
       "      <th></th>\n",
       "      <th>text</th>\n",
       "      <th>label</th>\n",
       "      <th>Total Words</th>\n",
       "      <th>Total Characters</th>\n",
       "      <th>Total Words After Transformation</th>\n",
       "    </tr>\n",
       "  </thead>\n",
       "  <tbody>\n",
       "    <tr>\n",
       "      <th>0</th>\n",
       "      <td>dear american teen question dutch person heard...</td>\n",
       "      <td>0</td>\n",
       "      <td>23</td>\n",
       "      <td>112</td>\n",
       "      <td>23</td>\n",
       "    </tr>\n",
       "    <tr>\n",
       "      <th>1</th>\n",
       "      <td>noth look forward lifei dont mani reason keep ...</td>\n",
       "      <td>1</td>\n",
       "      <td>20</td>\n",
       "      <td>98</td>\n",
       "      <td>19</td>\n",
       "    </tr>\n",
       "    <tr>\n",
       "      <th>2</th>\n",
       "      <td>music recommend im look expand playlist usual ...</td>\n",
       "      <td>0</td>\n",
       "      <td>64</td>\n",
       "      <td>387</td>\n",
       "      <td>61</td>\n",
       "    </tr>\n",
       "    <tr>\n",
       "      <th>3</th>\n",
       "      <td>im done tri feel betterth reason im still aliv...</td>\n",
       "      <td>1</td>\n",
       "      <td>100</td>\n",
       "      <td>493</td>\n",
       "      <td>97</td>\n",
       "    </tr>\n",
       "    <tr>\n",
       "      <th>4</th>\n",
       "      <td>worri year old girl subject domest physicalmen...</td>\n",
       "      <td>1</td>\n",
       "      <td>311</td>\n",
       "      <td>1819</td>\n",
       "      <td>296</td>\n",
       "    </tr>\n",
       "  </tbody>\n",
       "</table>\n",
       "</div>"
      ],
      "text/plain": [
       "                                                text  label  Total Words  \\\n",
       "0  dear american teen question dutch person heard...      0           23   \n",
       "1  noth look forward lifei dont mani reason keep ...      1           20   \n",
       "2  music recommend im look expand playlist usual ...      0           64   \n",
       "3  im done tri feel betterth reason im still aliv...      1          100   \n",
       "4  worri year old girl subject domest physicalmen...      1          311   \n",
       "\n",
       "   Total Characters  Total Words After Transformation  \n",
       "0               112                                23  \n",
       "1                98                                19  \n",
       "2               387                                61  \n",
       "3               493                                97  \n",
       "4              1819                               296  "
      ]
     },
     "execution_count": 42,
     "metadata": {},
     "output_type": "execute_result"
    }
   ],
   "source": [
    "df.head()"
   ]
  },
  {
   "cell_type": "code",
   "execution_count": 43,
   "id": "cdd42dcc-168b-4462-8fb6-5293c4d48d2b",
   "metadata": {},
   "outputs": [
    {
     "name": "stderr",
     "output_type": "stream",
     "text": [
      "Intel(R) Extension for Scikit-learn* enabled (https://github.com/intel/scikit-learn-intelex)\n"
     ]
    }
   ],
   "source": [
    "from sklearnex import patch_sklearn\n",
    "patch_sklearn()\n",
    "\n",
    "from sklearn.model_selection import train_test_split\n",
    "X = df[\"text\"]\n",
    "y = df['label'].values\n",
    "X_train, X_test, y_train, y_test = train_test_split(X, y, test_size= 0.2, random_state= 42, stratify = y)"
   ]
  },
  {
   "cell_type": "code",
   "execution_count": 45,
   "id": "08e13e1d-6766-4b5f-b677-63a1269a782f",
   "metadata": {},
   "outputs": [
    {
     "name": "stderr",
     "output_type": "stream",
     "text": [
      "Intel(R) Extension for Scikit-learn* enabled (https://github.com/intel/scikit-learn-intelex)\n"
     ]
    }
   ],
   "source": [
    "from sklearnex import patch_sklearn\n",
    "patch_sklearn()\n",
    "\n",
    "from sklearn.feature_extraction.text import TfidfVectorizer\n",
    "from sklearn.naive_bayes import MultinomialNB\n",
    "from sklearn.ensemble import RandomForestClassifier\n",
    "from sklearn import model_selection, svm\n",
    "\n",
    "from sklearn.linear_model import LogisticRegression\n",
    "from sklearn.svm import SVC\n",
    "from sklearn.tree import DecisionTreeClassifier\n",
    "from sklearn.ensemble import RandomForestClassifier\n",
    "\n",
    "from sklearn.metrics import accuracy_score, precision_score, recall_score, f1_score, confusion_matrix, classification_report"
   ]
  },
  {
   "cell_type": "code",
   "execution_count": 46,
   "id": "ae8e0cca-a39e-4497-945c-3d887c5e2037",
   "metadata": {},
   "outputs": [],
   "source": [
    "tfidf = TfidfVectorizer(max_features= 2500, min_df= 2)\n",
    "X_train = tfidf.fit_transform(X_train).toarray()\n",
    "X_test = tfidf.transform(X_test).toarray()"
   ]
  },
  {
   "cell_type": "code",
   "execution_count": 47,
   "id": "0a47f54e-f2c7-46a0-bfa6-89c8b832f4e9",
   "metadata": {},
   "outputs": [],
   "source": [
    "classifiers = [\n",
    "    ('LogisticRegression', LogisticRegression()),\n",
    "    ('SVC', SVC()),\n",
    "    ('DecisionTreeClassifier', DecisionTreeClassifier()),\n",
    "    ('RandomForestClassifier', RandomForestClassifier(n_estimators=100, random_state=42)),\n",
    "    ('MultinomialNB', MultinomialNB())\n",
    "]"
   ]
  },
  {
   "cell_type": "code",
   "execution_count": 48,
   "id": "d6e8136b-a8c8-40ee-bfd1-02836887a349",
   "metadata": {},
   "outputs": [
    {
     "name": "stdout",
     "output_type": "stream",
     "text": [
      "Training LogisticRegression...\n",
      "LogisticRegression Accuracy: 0.9137\n",
      "Saved LogisticRegression model as LogisticRegression_model(audio).pkl\n",
      "Predictions using LogisticRegression model:\n",
      "      True_Labels  Predicted_Labels\n",
      "0               1                 1\n",
      "1               1                 1\n",
      "2               0                 1\n",
      "3               1                 1\n",
      "4               0                 0\n",
      "...           ...               ...\n",
      "5590            0                 0\n",
      "5591            0                 0\n",
      "5592            0                 0\n",
      "5593            1                 0\n",
      "5594            0                 0\n",
      "\n",
      "[5595 rows x 2 columns]\n",
      "Training SVC...\n",
      "SVC Accuracy: 0.9172\n",
      "Saved SVC model as SVC_model(audio).pkl\n",
      "Predictions using SVC model:\n",
      "      True_Labels  Predicted_Labels\n",
      "0               1                 1\n",
      "1               1                 1\n",
      "2               0                 1\n",
      "3               1                 1\n",
      "4               0                 0\n",
      "...           ...               ...\n",
      "5590            0                 0\n",
      "5591            0                 0\n",
      "5592            0                 0\n",
      "5593            1                 0\n",
      "5594            0                 0\n",
      "\n",
      "[5595 rows x 2 columns]\n",
      "Training DecisionTreeClassifier...\n",
      "DecisionTreeClassifier Accuracy: 0.8200\n",
      "Saved DecisionTreeClassifier model as DecisionTreeClassifier_model(audio).pkl\n",
      "Predictions using DecisionTreeClassifier model:\n",
      "      True_Labels  Predicted_Labels\n",
      "0               1                 1\n",
      "1               1                 1\n",
      "2               0                 1\n",
      "3               1                 1\n",
      "4               0                 0\n",
      "...           ...               ...\n",
      "5590            0                 0\n",
      "5591            0                 0\n",
      "5592            0                 0\n",
      "5593            1                 1\n",
      "5594            0                 1\n",
      "\n",
      "[5595 rows x 2 columns]\n",
      "Training RandomForestClassifier...\n",
      "RandomForestClassifier Accuracy: 0.8910\n",
      "Saved RandomForestClassifier model as RandomForestClassifier_model(audio).pkl\n",
      "Predictions using RandomForestClassifier model:\n",
      "      True_Labels  Predicted_Labels\n",
      "0               1                 1\n",
      "1               1                 1\n",
      "2               0                 1\n",
      "3               1                 1\n",
      "4               0                 0\n",
      "...           ...               ...\n",
      "5590            0                 0\n",
      "5591            0                 0\n",
      "5592            0                 0\n",
      "5593            1                 0\n",
      "5594            0                 1\n",
      "\n",
      "[5595 rows x 2 columns]\n",
      "Training MultinomialNB...\n",
      "MultinomialNB Accuracy: 0.8895\n",
      "Saved MultinomialNB model as MultinomialNB_model(audio).pkl\n",
      "Predictions using MultinomialNB model:\n",
      "      True_Labels  Predicted_Labels\n",
      "0               1                 1\n",
      "1               1                 1\n",
      "2               0                 1\n",
      "3               1                 1\n",
      "4               0                 0\n",
      "...           ...               ...\n",
      "5590            0                 1\n",
      "5591            0                 0\n",
      "5592            0                 0\n",
      "5593            1                 1\n",
      "5594            0                 0\n",
      "\n",
      "[5595 rows x 2 columns]\n"
     ]
    }
   ],
   "source": [
    "# Train and evaluate each classifier\n",
    "import pickle\n",
    "\n",
    "for name, classifier in classifiers:\n",
    "    print(f\"Training {name}...\")\n",
    "    classifier.fit(X_train, y_train)\n",
    "    y_pred = classifier.predict(X_test)\n",
    "    accuracy = accuracy_score(y_test, y_pred)\n",
    "    print(f\"{name} Accuracy: {accuracy:.4f}\")\n",
    "\n",
    "    # Save the trained model as a pickle file\n",
    "    model_filename = f\"{name}_model(audio).pkl\"\n",
    "    with open(model_filename, 'wb') as file:\n",
    "        pickle.dump((classifier,tfidf), file)\n",
    "    print(f\"Saved {name} model as {model_filename}\")\n",
    "\n",
    "    # Print predicted labels alongside true labels\n",
    "    predictions = pd.DataFrame({'True_Labels': y_test, 'Predicted_Labels': y_pred})\n",
    "    print(f\"Predictions using {name} model:\")\n",
    "    print(predictions)"
   ]
  },
  {
   "cell_type": "code",
   "execution_count": 49,
   "id": "4a78340c-60df-47b2-baa9-584cb12cca12",
   "metadata": {},
   "outputs": [
    {
     "name": "stdout",
     "output_type": "stream",
     "text": [
      "Predicted Label: [0]\n"
     ]
    }
   ],
   "source": [
    "import pickle\n",
    "import numpy as np\n",
    "from flask import Flask, render_template, request\n",
    "\n",
    "from sklearn.feature_extraction.text import TfidfVectorizer\n",
    "\n",
    "# Load the trained SVC model and fitted TF-IDF vectorizer from the pickle file\n",
    "with open('models/SVC_model(audio).pkl', 'rb') as model_file:\n",
    "    model, fitted_tfidf = pickle.load(model_file)\n",
    "\n",
    "# Sample text input\n",
    "sample_text_input = \"I never realized that exercise can help you feel so good make you happy and motivated both physically and emotionally\"\n",
    "\n",
    "# Preprocess the text input using the fitted TF-IDF vectorizer\n",
    "preprocessed_input = fitted_tfidf.transform([sample_text_input]).toarray()\n",
    "\n",
    "# Predict label\n",
    "predicted_label = model.predict(preprocessed_input)\n",
    "\n",
    "# Print the predicted label\n",
    "print(\"Predicted Label:\", predicted_label)"
   ]
  },
  {
   "cell_type": "code",
   "execution_count": null,
   "id": "b75a3bee-f03e-4bb0-b607-a7a2451a5ee8",
   "metadata": {},
   "outputs": [],
   "source": []
  }
 ],
 "metadata": {
  "kernelspec": {
   "display_name": "Python 3 (ipykernel)",
   "language": "python",
   "name": "python3"
  },
  "language_info": {
   "codemirror_mode": {
    "name": "ipython",
    "version": 3
   },
   "file_extension": ".py",
   "mimetype": "text/x-python",
   "name": "python",
   "nbconvert_exporter": "python",
   "pygments_lexer": "ipython3",
   "version": "3.10.11"
  }
 },
 "nbformat": 4,
 "nbformat_minor": 5
}
